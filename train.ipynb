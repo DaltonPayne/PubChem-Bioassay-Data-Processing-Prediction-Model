{
 "cells": [
  {
   "cell_type": "code",
   "execution_count": 12,
   "metadata": {},
   "outputs": [
    {
     "name": "stdout",
     "output_type": "stream",
     "text": [
      "        CID Activity Type Qualifier  Value    MolWt  MolLogP  NumHDonors  \\\n",
      "0  44454916      Activity         =  1.750  446.532  4.34030           1   \n",
      "1  44454916      Activity         =  0.028  446.532  4.34030           1   \n",
      "2  44454916            Ki         =  0.120  446.532  4.34030           1   \n",
      "3  44454916            Ki         =  0.008  446.532  4.34030           1   \n",
      "4  44454878      Activity         =  0.028  473.602  4.39422           1   \n",
      "\n",
      "   NumHAcceptors  RingCount   TPSA  ...  NumHeteroatoms  FractionCSP3  \\\n",
      "0              6          5  80.37  ...               8      0.208333   \n",
      "1              6          5  80.37  ...               8      0.208333   \n",
      "2              6          5  80.37  ...               8      0.208333   \n",
      "3              6          5  80.37  ...               8      0.208333   \n",
      "4              6          5  72.16  ...               8      0.269231   \n",
      "\n",
      "   HallKierAlpha    Kappa3   LabuteASA  BalabanJ  BCUT2D_MWHI  BCUT2D_MWLOW  \\\n",
      "0          -3.52  4.134917  188.964979  1.249975    32.166567     10.157473   \n",
      "1          -3.52  4.134917  188.964979  1.249975    32.166567     10.157473   \n",
      "2          -3.52  4.134917  188.964979  1.249975    32.166567     10.157473   \n",
      "3          -3.52  4.134917  188.964979  1.249975    32.166567     10.157473   \n",
      "4          -3.52  4.329539  202.319666  1.266391    32.166556     10.157473   \n",
      "\n",
      "   EState_VSA1  EState_VSA2  \n",
      "0     6.041841    17.567213  \n",
      "1     6.041841    17.567213  \n",
      "2     6.041841    17.567213  \n",
      "3     6.041841    17.567213  \n",
      "4     6.041841    17.567213  \n",
      "\n",
      "[5 rows x 28 columns]\n"
     ]
    }
   ],
   "source": [
    "import pandas as pd\n",
    "from sklearn.model_selection import train_test_split\n",
    "from sklearn.ensemble import RandomForestClassifier\n",
    "from sklearn.metrics import accuracy_score\n",
    "from sklearn.preprocessing import LabelEncoder\n",
    "from sklearn.metrics import mean_squared_error\n",
    "from sklearn.ensemble import RandomForestRegressor\n",
    "\n",
    "# Load the data\n",
    "data = pd.read_csv('output_4.csv')\n",
    "\n",
    "# Display the first few rows of the data\n",
    "print(data.head())"
   ]
  },
  {
   "cell_type": "code",
   "execution_count": 13,
   "metadata": {},
   "outputs": [],
   "source": [
    "# Separate the data into input (X) and output (y)\n",
    "X = data.drop(columns=['CID', 'Activity Type', 'Qualifier', 'Value'])\n",
    "\n",
    "# Encode the Qualifier column\n",
    "le = LabelEncoder()\n",
    "data['Qualifier_encoded'] = le.fit_transform(data['Qualifier'])\n",
    "\n",
    "# Now, split the output data\n",
    "y_classifier = data['Activity Type']\n",
    "y_regressor = data[['Qualifier_encoded', 'Value']]"
   ]
  },
  {
   "cell_type": "code",
   "execution_count": 14,
   "metadata": {},
   "outputs": [
    {
     "name": "stdout",
     "output_type": "stream",
     "text": [
      "Classification Accuracy: 84.81%\n"
     ]
    }
   ],
   "source": [
    "# Split the data for the classification task\n",
    "X_train_classifier, X_test_classifier, y_train_classifier, y_test_classifier = train_test_split(X, y_classifier, test_size=0.2, random_state=42)\n",
    "\n",
    "# Instantiate and train a classifier\n",
    "clf = RandomForestClassifier(random_state=42)\n",
    "clf.fit(X_train_classifier, y_train_classifier)\n",
    "\n",
    "# Evaluate the classification model\n",
    "y_pred_classifier = clf.predict(X_test_classifier)\n",
    "accuracy_classifier = accuracy_score(y_test_classifier, y_pred_classifier)\n",
    "print(f'Classification Accuracy: {accuracy_classifier * 100:.2f}%')"
   ]
  },
  {
   "cell_type": "code",
   "execution_count": 15,
   "metadata": {},
   "outputs": [
    {
     "name": "stdout",
     "output_type": "stream",
     "text": [
      "Mean Squared Error: 8286194.998310305\n"
     ]
    }
   ],
   "source": [
    "# Split the data for the regression task\n",
    "X_train_regressor, X_test_regressor, y_train_regressor, y_test_regressor = train_test_split(X, y_regressor, test_size=0.2, random_state=42)\n",
    "\n",
    "# Instantiate and train a regressor\n",
    "reg = RandomForestRegressor(random_state=42)\n",
    "reg.fit(X_train_regressor, y_train_regressor)\n",
    "\n",
    "# Evaluate the regression model\n",
    "y_pred_regressor = reg.predict(X_test_regressor)\n",
    "mse = mean_squared_error(y_test_regressor, y_pred_regressor)\n",
    "print(f'Mean Squared Error: {mse}')"
   ]
  },
  {
   "cell_type": "code",
   "execution_count": 17,
   "metadata": {},
   "outputs": [
    {
     "name": "stdout",
     "output_type": "stream",
     "text": [
      "Classification Accuracy: 85.09%\n",
      "Mean Squared Error: 8286236.43167256\n",
      "Mean Absolute Error: 110.94880666624606\n"
     ]
    }
   ],
   "source": [
    "import pandas as pd\n",
    "from sklearn.ensemble import RandomForestClassifier, RandomForestRegressor\n",
    "from sklearn.preprocessing import LabelEncoder, StandardScaler\n",
    "from sklearn.model_selection import train_test_split\n",
    "from sklearn.metrics import accuracy_score, mean_squared_error, mean_absolute_error\n",
    "import math\n",
    "\n",
    "# Load data\n",
    "data = pd.read_csv('output_4.csv')\n",
    "\n",
    "# Assume that molecular descriptors have been calculated and are part of the dataset\n",
    "\n",
    "# Separate the data into input (X) and output (y)\n",
    "X = data.drop(columns=['CID', 'Activity Type', 'Qualifier', 'Value'])\n",
    "\n",
    "# Encode the Qualifier column\n",
    "le = LabelEncoder()\n",
    "data['Qualifier_encoded'] = le.fit_transform(data['Qualifier'])\n",
    "\n",
    "# Now, split the output data\n",
    "y_classifier = data['Activity Type']\n",
    "y_regressor = data[['Qualifier_encoded', 'Value']]\n",
    "\n",
    "# Scale the features\n",
    "scaler = StandardScaler()\n",
    "X_scaled = scaler.fit_transform(X)\n",
    "\n",
    "# Split the data for the classification task\n",
    "X_train_classifier, X_test_classifier, y_train_classifier, y_test_classifier = train_test_split(X_scaled, y_classifier, test_size=0.2, random_state=42)\n",
    "\n",
    "# Instantiate and train a classifier\n",
    "clf = RandomForestClassifier(random_state=42)\n",
    "clf.fit(X_train_classifier, y_train_classifier)\n",
    "\n",
    "# Evaluate the classification model\n",
    "y_pred_classifier = clf.predict(X_test_classifier)\n",
    "accuracy_classifier = accuracy_score(y_test_classifier, y_pred_classifier)\n",
    "print(f'Classification Accuracy: {accuracy_classifier * 100:.2f}%')\n",
    "\n",
    "# Split the data for the regression task\n",
    "X_train_regressor, X_test_regressor, y_train_regressor, y_test_regressor = train_test_split(X_scaled, y_regressor, test_size=0.2, random_state=42)\n",
    "\n",
    "# Instantiate and train a regressor\n",
    "reg = RandomForestRegressor(random_state=42)\n",
    "reg.fit(X_train_regressor, y_train_regressor)\n",
    "\n",
    "# Evaluate the regression model\n",
    "y_pred_regressor = reg.predict(X_test_regressor)\n",
    "mse = mean_squared_error(y_test_regressor, y_pred_regressor)\n",
    "mae = mean_absolute_error(y_test_regressor, y_pred_regressor)\n",
    "print(f'Mean Squared Error: {mse}')\n",
    "print(f'Mean Absolute Error: {mae}')\n"
   ]
  }
 ],
 "metadata": {
  "kernelspec": {
   "display_name": "Python 3",
   "language": "python",
   "name": "python3"
  },
  "language_info": {
   "codemirror_mode": {
    "name": "ipython",
    "version": 3
   },
   "file_extension": ".py",
   "mimetype": "text/x-python",
   "name": "python",
   "nbconvert_exporter": "python",
   "pygments_lexer": "ipython3",
   "version": "3.11.5"
  },
  "orig_nbformat": 4
 },
 "nbformat": 4,
 "nbformat_minor": 2
}
